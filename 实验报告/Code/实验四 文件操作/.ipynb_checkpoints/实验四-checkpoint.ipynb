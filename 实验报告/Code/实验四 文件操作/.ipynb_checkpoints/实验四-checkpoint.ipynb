{
 "cells": [
  {
   "cell_type": "markdown",
   "metadata": {},
   "source": [
    "1.编写程序，创建一个文本文件，输入该内容（“中华人民共和国中国人民”）（存放D盘根目录下）打开该文本文件，读出其中内容，统计“中国”关键字出现的次数。"
   ]
  },
  {
   "cell_type": "code",
   "execution_count": 1,
   "metadata": {},
   "outputs": [
    {
     "output_type": "stream",
     "name": "stderr",
     "text": [
      "Building prefix dict from the default dictionary ...\n",
      "Dumping model to file cache C:\\Users\\xjfyt\\AppData\\Local\\Temp\\jieba.cache\n",
      "Loading model cost 0.621 seconds.\n",
      "Prefix dict has been built successfully.\n",
      "中国出现了0次\n"
     ]
    }
   ],
   "source": [
    "import jieba\n",
    "a=input(\"请输入:\\n\")\n",
    "with open(\"D:/text.txt\",'w') as f:\n",
    "    f.write(a)\n",
    "with open(\"D:/text.txt\",'r') as f:\n",
    "    str=f.read()\n",
    "str1=jieba.lcut(str,cut_all=True)\n",
    "print(\"中国出现了{}次\".format(str1.count(\"中国\")))"
   ]
  },
  {
   "cell_type": "markdown",
   "metadata": {},
   "source": [
    "2、将下列列表ls=[“清华大学”,“北京大学”,“中国人民大学”,“北京航天大学”，“北京师范大学”]写入文件，并对该文件进行如下操作：一个大学名存放一行，进行行遍历，并输出；在指定的位置产生一个相同副本的文件，完成文件复制功能。"
   ]
  },
  {
   "cell_type": "code",
   "execution_count": 1,
   "metadata": {},
   "outputs": [
    {
     "name": "stdout",
     "output_type": "stream",
     "text": [
      "清华大学\n",
      "北京大学\n",
      "中国人民大学\n",
      "北京航天大学\n",
      "北京师范大学\n"
     ]
    }
   ],
   "source": [
    "ls = [\"清华大学\", \"北京大学\", \"中国人民大学\", \"北京航天大学\",\"北京师范大学\"]\n",
    "with open(\"test.txt\",'w') as f:\n",
    "    for i in ls:\n",
    "        f.write(i+'\\n')\n",
    "with open(\"test.txt\",'r') as f1,open(\"test副本.txt\",'w') as f2:\n",
    "    for line in f1.readlines():\n",
    "        f2.write(line)\n",
    "        print(line.strip('\\n'))"
   ]
  },
  {
   "cell_type": "markdown",
   "metadata": {},
   "source": [
    "3.用WINDOWS记事本创建一个文本文件，其中每行包含一段英文。试读出文件的全部内容，并判断：\n",
    "1）该文本文件共有多少行？\n",
    "2）\t包含最多和最少字符在哪几行？"
   ]
  },
  {
   "cell_type": "code",
   "execution_count": 2,
   "metadata": {},
   "outputs": [
    {
     "name": "stdout",
     "output_type": "stream",
     "text": [
      "文件内容如下:\n",
      "To be or Not to be\n",
      "This is a Question\n",
      "Time is short,\n",
      "I use Python\n",
      "该文件有4行\n",
      "包含字符数目最多的是1行\n",
      "包含字符数目最少的是4行\n"
     ]
    }
   ],
   "source": [
    "i = 0\n",
    "a=[]\n",
    "with open(\"test2.txt\",'r') as f:\n",
    "    print(\"文件内容如下:\")\n",
    "    for line in f.readlines():\n",
    "        a.append(len(line))\n",
    "        print(line.strip('\\n'))\n",
    "        i+=1\n",
    "dict1=dict(zip([j+1 for j in range(i)],a))\n",
    "items = list(dict1.items())\n",
    "items.sort(key=lambda x: x[1], reverse=True)\n",
    "print(\"该文件有{}行\".format(i))\n",
    "print(\"包含字符数目最多的是{}行\".format(items[0][0]))\n",
    "print(\"包含字符数目最少的是{}行\".format(items[-1][0]))\n"
   ]
  },
  {
   "cell_type": "markdown",
   "metadata": {},
   "source": [
    "4.向文本文件data.txt中写入整数，（文件中每行存放一个整数），将其读出后按升序排序后再写入文本文件data_asc.txt中。"
   ]
  },
  {
   "cell_type": "code",
   "execution_count": null,
   "metadata": {},
   "outputs": [],
   "source": [
    "a=[10,34,23,21,54,34,23,23]\n",
    "with open(\"data.txt\",'w') as f:\n",
    "    for i in a:\n",
    "        f.write(str(i)+'\\n')\n",
    "with open(\"data.txt\",'r') as f:\n",
    "    b=list(map(int,f.readlines()))\n",
    "    b.sort()\n",
    "with open(\"data_asc.txt\",'w') as f:\n",
    "    for i in b:\n",
    "        f.write(str(i)+'\\n')"
   ]
  },
  {
   "cell_type": "markdown",
   "metadata": {},
   "source": [
    "5.打开hamlet.txt文本，统计文章中前20位实词出现的次数。"
   ]
  },
  {
   "cell_type": "code",
   "execution_count": 5,
   "metadata": {},
   "outputs": [
    {
     "output_type": "stream",
     "name": "stdout",
     "text": [
      "to          754\nhamlet      462\nit          416\nthat        391\nis          340\nnot         314\nlord        309\nhis         296\nthis        295\nbut         269\nwith        268\nfor         247\nyour        242\nme          234\nbe          228\nas          225\nhe          219\nwhat        206\nhim         197\nso          197\n"
     ]
    }
   ],
   "source": [
    "excludes = {\"the\", \"and\", \"of\", \"you\", \"a\", \"i\", \"my\", \"in\"}\n",
    "def getText():\n",
    "    txt = open(\"hamlet.txt\", \"r\").read()\n",
    "    txt = txt.lower()\n",
    "    for ch in '!\"#$%&()*+,-./:;<=>?@[\\\\]^_‘{|}~':\n",
    "        txt = txt.replace(ch, \" \")  # 将文本中特殊字符替换为空格\n",
    "    return txt\n",
    "\n",
    "hamletTxt = getText()\n",
    "words = hamletTxt.split()\n",
    "counts = {}\n",
    "for word in words:\n",
    "    counts[word] = counts.get(word, 0) + 1\n",
    "for word in excludes:\n",
    "    del(counts[word])\n",
    "items = list(counts.items())\n",
    "items.sort(key=lambda x: x[1], reverse=True)\n",
    "for i in range(20):\n",
    "    word, count = items[i]\n",
    "    print(\"{0:<10}{1:>5}\".format(word, count))"
   ]
  },
  {
   "cell_type": "markdown",
   "metadata": {},
   "source": [
    "思考题\n",
    "1、文本文件和二进制的不同点？\n",
    "\n",
    "答:文本文件一般由特定编码的字符组成，如UTF-8编码，内容容易统一展示和阅读。大部分文本文件可以通过文本编辑软件或者文字处理软件创建、修改和阅读。\n",
    "二进制文件直接由比特0和比特1组成，没有统一的字符编码，文件内部数据的组织形式和文件用途有关。二进制是信息按照非字符但特定格式形成的文件。二进制文件和文本文件最主要的区别在于是否有统一的字符编码。"
   ]
  },
  {
   "cell_type": "markdown",
   "metadata": {},
   "source": [
    "2、\t打开三国演义.txt文本，统计文章中主要人物出现的次数。"
   ]
  },
  {
   "cell_type": "code",
   "execution_count": 6,
   "metadata": {},
   "outputs": [
    {
     "output_type": "stream",
     "name": "stdout",
     "text": [
      "曹操         1451\n孔明         1383\n刘备         1252\n关羽          784\n张飞          358\n"
     ]
    }
   ],
   "source": [
    "import jieba\n",
    "excudes={\"将军\",\"却说\",\"荆州\",\"二人\",\"不可\",\"不能\",\"如此\"}\n",
    "txt=open(\"三国演义.txt\",'r',encoding='utf-8').read()\n",
    "words=jieba.lcut(txt)\n",
    "counts={}\n",
    "for word in words:\n",
    "    if len(word)==1:\n",
    "        continue\n",
    "    elif word==\"诸葛亮\" or word==\"孔明曰\":\n",
    "        rword=\"孔明\"\n",
    "    elif word == \"关公\" or word == \"云长\":\n",
    "        rword = \"关羽\"\n",
    "    elif word == \"玄德\" or word == \"玄德曰\":\n",
    "        rword = \"刘备\"\n",
    "    elif word == \"孟德\" or word == \"丞相\":\n",
    "        rword = \"曹操\"\n",
    "    else:\n",
    "        rword=word\n",
    "    counts[rword]=counts.get(rword,0)+1\n",
    "for word in excudes:\n",
    "    del (counts[word])\n",
    "items=list(counts.items())\n",
    "items.sort(key=lambda x:x[-1],reverse=True)\n",
    "for i in range(5):\n",
    "    word,count=items[i]\n",
    "    print(\"{0:<10}{1:>5}\".format(word,count))"
   ]
  }
 ],
 "metadata": {
  "kernelspec": {
   "display_name": "Python 3",
   "language": "python",
   "name": "python3"
  },
  "language_info": {
   "codemirror_mode": {
    "name": "ipython",
    "version": 3
   },
   "file_extension": ".py",
   "mimetype": "text/x-python",
   "name": "python",
   "nbconvert_exporter": "python",
   "pygments_lexer": "ipython3",
   "version": "3.8.3-final"
  }
 },
 "nbformat": 4,
 "nbformat_minor": 4
}