{
 "metadata": {
  "language_info": {
   "codemirror_mode": {
    "name": "ipython",
    "version": 3
   },
   "file_extension": ".py",
   "mimetype": "text/x-python",
   "name": "python",
   "nbconvert_exporter": "python",
   "pygments_lexer": "ipython3",
   "version": "3.8.3-final"
  },
  "orig_nbformat": 2,
  "kernelspec": {
   "name": "Python 3.8.3 64-bit",
   "display_name": "Python 3.8.3 64-bit",
   "metadata": {
    "interpreter": {
     "hash": "13fdf25ef2beee923e1f1011635d38d6ce68fb2882c6a64f76de1420ab9cc9f4"
    }
   }
  }
 },
 "nbformat": 4,
 "nbformat_minor": 2,
 "cells": [
  {
   "cell_type": "code",
   "execution_count": 1,
   "metadata": {
    "tags": []
   },
   "outputs": [
    {
     "output_type": "stream",
     "name": "stdout",
     "text": "变量str1的值是：这是一个变量\n变量str1的地址是：2906501979136\n变量str2的值是：这是一个变量\n变量str2的地址是：2906501979136\n变量str1的值是：这是另一个变量\n变量str1的地址是：2906502478416\n变量str2的值是：这是一个变量\n变量str2的地址是：2906501979136\n"
    }
   ],
   "source": [
    "# 1、变量的使用\n",
    "str1 = \"这是一个变量\"\n",
    "print(\"变量str1的值是：\"+str1)  \n",
    "print(\"变量str1的地址是：%d\" %(id(str1))) \n",
    "str2 = str1\n",
    "print(\"变量str2的值是：\"+str2)  \n",
    "print(\"变量str2的地址是：%d\" %(id(str2)))\n",
    "str1 = \"这是另一个变量\"\n",
    "print(\"变量str1的值是：\"+str1)  \n",
    "print(\"变量str1的地址是：%d\" %(id(str1)))   \n",
    "print(\"变量str2的值是：\"+str2) \n",
    "print(\"变量str2的地址是：%d\" %(id(str2)))\n"
   ]
  },
  {
   "cell_type": "code",
   "execution_count": 2,
   "metadata": {
    "tags": []
   },
   "outputs": [
    {
     "output_type": "stream",
     "name": "stdout",
     "text": "6\n3\n9\n3.0\n"
    }
   ],
   "source": [
    "# 2、使用运算符\n",
    "x =3\n",
    "x += 3\n",
    "print(x)\n",
    "x -= 3\n",
    "print(x)\n",
    "x *= 3\n",
    "print(x)\n",
    "x /= 3\n",
    "print(x)"
   ]
  },
  {
   "cell_type": "code",
   "execution_count": 78,
   "metadata": {
    "tags": []
   },
   "outputs": [
    {
     "output_type": "stream",
     "name": "stdout",
     "text": "1536.0\n1\n5\n-108\n10\n"
    }
   ],
   "source": [
    "# 3、（1） 分析下列表达式的值并上机验证，设a=7,b=-2,c=4。\n",
    "a=7\n",
    "b=-2\n",
    "c=4\n",
    "print(3*4**5/2)\n",
    "print(a*3%2)\n",
    "print(a%3+b*b-c//5)\n",
    "print(b**2-4*a*c)\n",
    "print(10+5//3-True+False )"
   ]
  },
  {
   "cell_type": "code",
   "execution_count": 6,
   "metadata": {
    "tags": []
   },
   "outputs": [
    {
     "output_type": "stream",
     "name": "stdout",
     "text": "-0.25834261322605867\n65.0\n1.0691050839605458\n"
    }
   ],
   "source": [
    "# 3、（2）从键盘输入变量a,b,x,y的值，将下列数学表达式转换成等价的Python表达式，计算并输出表达式的值。\n",
    "from math import *\n",
    "a,b,c,x,y=[int(i) for i in (input(\"请输入a,b,c,x,y(用空格隔开)\\n\").split(' '))]\n",
    "print((-b+sqrt((b*b-4*a*c)))/(2*a))\n",
    "print((x**2+y**2)/2*a*a)\n",
    "print(2*sin((x+y)/2)*cos((x-y)/2))"
   ]
  },
  {
   "cell_type": "code",
   "execution_count": 9,
   "metadata": {
    "tags": []
   },
   "outputs": [
    {
     "output_type": "stream",
     "name": "stdout",
     "text": "0x10 0b1010\n4 (2, 1)\n(-5+12j)\nB\nhelloahpu!\n数量100,单价285.5\n数量100,单价285.50\n数量= 100，单价=285.500\n"
    }
   ],
   "source": [
    "# 4.\t分析下列Python语句的输出结果并上机验证\n",
    "print(hex(16),bin(10))\n",
    "print(gcd(12,16),divmod(7,3))\n",
    "print((2-3j).conjugate()*complex(2,3))\n",
    "print(chr(ord('B')))\n",
    "str1=\"hello\"\n",
    "str2=\"ahpu!\"\n",
    "print(str1+str2)\n",
    "print(\"数量{0},单价{1}\".format(100,285.5))\n",
    "print(str.format(\"数量{0},单价{1:3.2f}\",100,285.5))\n",
    "print(\"数量=%4d，单价=%3.3f\"%(100,285.5))\n"
   ]
  },
  {
   "cell_type": "code",
   "execution_count": 12,
   "metadata": {
    "tags": []
   },
   "outputs": [
    {
     "output_type": "stream",
     "name": "stdout",
     "text": "apple\npeach\nbanana\npear\npeach\npear\n2\nTrue\n"
    }
   ],
   "source": [
    "# 5.\t    s=\"apple,peach,banana,pear,peach,pear\"  \n",
    "# （1）\t以“，“将该字符串分割\n",
    "# （2）\t统计“pear”出现的次数\n",
    "# （3）\t判断“banana”是否出现\n",
    "\n",
    "s=\"apple,peach,banana,pear,peach,pear\" \n",
    "a=s.split(',')\n",
    "for i in a:\n",
    "    print(i)\n",
    "print(s.count('pear'))\n",
    "print('banana' in s)"
   ]
  },
  {
   "cell_type": "code",
   "execution_count": 19,
   "metadata": {
    "tags": []
   },
   "outputs": [
    {
     "output_type": "stream",
     "name": "stdout",
     "text": "*****2020年10月1日*****\n\n"
    }
   ],
   "source": [
    "# 6.s = \"2020-10-1“\n",
    "#     将该字符串年月日分开，并居中输出，左右两边以5个*填充\n",
    "\n",
    "s = \"2020-10-1\"\n",
    "s1=s.split('-')\n",
    "print(\"{}年{}月{}日\".format(s1[0],s1[1],s1[2]).center(20,'*'))\n",
    "print()"
   ]
  },
  {
   "cell_type": "code",
   "execution_count": 27,
   "metadata": {
    "tags": []
   },
   "outputs": [
    {
     "output_type": "stream",
     "name": "stdout",
     "text": "hello world My name is Dong\n共有6个单词\n"
    }
   ],
   "source": [
    "# 7.s = '\\n\\nhello\\t\\t world \\n\\n\\n My name\\t is Dong   ‘\n",
    "#     除去该字符串中的转义字符及空格，并统计单词个数\n",
    "\n",
    "s = \"\\n\\nhello\\t\\t world\\n\\n\\n My name\\t is Dong\"\n",
    "s1=s.replace('\\n','')\n",
    "s1=s1.replace('\\t','')\n",
    "print(s1)\n",
    "s2=s1.split(' ')\n",
    "print(\"共有{}个单词\".format(len(s2)))"
   ]
  },
  {
   "cell_type": "code",
   "execution_count": 80,
   "metadata": {
    "tags": []
   },
   "outputs": [
    {
     "output_type": "stream",
     "name": "stdout",
     "text": "what is your name?\nWHAT IS YOUR NAME?\nWhat is your name?\nWhat Is Your Name?\nwHAT IS yOUR nAME?\n"
    }
   ],
   "source": [
    "# 8.s = \"What is Your Name?\"\n",
    "# 将该字符串大写字符转换成小写字符；将该字符串小写写字符转换成大写字符；字符串首字符大写；每个单词的首字母大写；大小写互换\n",
    "\n",
    "s='What is Your Name?'\n",
    "s2=s.lower()\n",
    "print(s2) #返回小写字符串\n",
    "# what iss your name?\n",
    "print(s.upper())    #返回大写字符串\n",
    "# WHAT IS YOUR NAME?\n",
    "print(s.capitalize())   #字符串首字符大写\n",
    "# What is your name?\n",
    "print(s.title())    #每个单词的首字母大写\n",
    "# What Is Your Name?\n",
    "print(s.swapcase()) #大小写互换\n",
    "# wHAT IS yOUR nAME?\n"
   ]
  },
  {
   "cell_type": "code",
   "execution_count": 29,
   "metadata": {
    "tags": []
   },
   "outputs": [
    {
     "output_type": "stream",
     "name": "stdout",
     "text": "球的表面积是37.70，体积是113.10\n"
    }
   ],
   "source": [
    "# 9、(1) 编写程序，输入球的半径，计算球的表面积和体积（结果保留两位小数）。\n",
    "# S=4Πr2，    V=4Πr3/3\n",
    "\n",
    "import math\n",
    "r=eval(input(\"请输入球的半径:\\n\"))\n",
    "print(\"球的表面积是{:.2f}，体积是{:.2f}\".format(4*math.pi*r,4/3*math.pi*math.pow(r,3)))"
   ]
  },
  {
   "cell_type": "code",
   "execution_count": 30,
   "metadata": {
    "tags": []
   },
   "outputs": [
    {
     "output_type": "stream",
     "name": "stdout",
     "text": "###################################\n# 新年贺卡\n# python0101.py\n# 2015\n###################################\n"
    }
   ],
   "source": [
    "#9、 (2)编写程序，输入<人名 1>和<人名 2>，在屏幕上显示如下的新年贺卡\n",
    "# ###################################\n",
    "# # 新年贺卡\n",
    "# # python0101.py\n",
    "# # 2015\n",
    "# ###################################\n",
    "\n",
    "print('###################################')\n",
    "print('# 新年贺卡')\n",
    "print('# python0101.py')\n",
    "print('# 2015')\n",
    "print('###################################')\n"
   ]
  },
  {
   "cell_type": "code",
   "execution_count": 45,
   "metadata": {
    "tags": []
   },
   "outputs": [
    {
     "output_type": "stream",
     "name": "stdout",
     "text": "十二月份\n"
    }
   ],
   "source": [
    "# 9、（3） 获取月份字符串。程序读入一个表示月份的数字（1-12），输出对应的月份名称。例如输入3，返回“三月份”。\n",
    "\n",
    "a=['一','二','三','四','五','六','七','八','九','十','十一','十二']\n",
    "m=eval(input(\"请输入表示月份的数字(1~12):\\n\"))\n",
    "print(\"{}月份\".format(a[m-1]))\n"
   ]
  },
  {
   "cell_type": "code",
   "execution_count": 46,
   "metadata": {
    "tags": []
   },
   "outputs": [
    {
     "output_type": "stream",
     "name": "stdout",
     "text": "可兑换人民币402.00￥\n"
    }
   ],
   "source": [
    "# 人民币与美元相互兑换\n",
    "money=input(\"请输入带有符号的货币:\")\n",
    "if money[-1] in ['￥']:\n",
    "    m=(eval(money[0:-1])/6)\n",
    "    print(\"可兑换美元{:.2f}$\".format(m))\n",
    "elif money[-1] in ['$']:\n",
    "    m=6*eval(money[0:-1])\n",
    "    print(\"可兑换人民币{:.2f}￥\".format(m))\n",
    "else:\n",
    "    print(\"输入错误\")\n"
   ]
  },
  {
   "cell_type": "code",
   "execution_count": 47,
   "metadata": {},
   "outputs": [],
   "source": [
    "# 画叠加三角形\n",
    "import turtle as t\n",
    "for i in range(2):\n",
    "    t.fd(100)\n",
    "    t.left(120)\n",
    "t.fd(100)\n",
    "t.fd(100)\n",
    "t.left(120)\n",
    "t.fd(200)\n",
    "for i in range(2):\n",
    "    t.left(120)\n",
    "    t.fd(100)\n",
    "t.right(120)\n",
    "t.fd(100)\n",
    "t.done()"
   ]
  },
  {
   "cell_type": "code",
   "execution_count": 70,
   "metadata": {
    "tags": []
   },
   "outputs": [
    {
     "output_type": "stream",
     "name": "stdout",
     "text": "年终值1.23\n年终值1.52\n年终值1.86\n年终值2.29\n年终值2.82\n年终值3.47\n年终值4.27\n年终值5.25\n年终值6.45\n年终值7.92\n"
    }
   ],
   "source": [
    "a=[]\n",
    "dayup=1.0\n",
    "for dayfactor in range(1,11):\n",
    "    dayup=1.0\n",
    "    for i in range(365):\n",
    "        if i%7 in [1,2,3,4]:\n",
    "            dayup=dayup*(1+dayfactor/1000)\n",
    "    a.append(dayup)\n",
    "for i in a:\n",
    "    print(\"年终值{:.2f}\".format(i))"
   ]
  },
  {
   "cell_type": "code",
   "execution_count": 71,
   "metadata": {
    "tags": []
   },
   "outputs": [
    {
     "output_type": "stream",
     "name": "stdout",
     "text": "年终值1.30\n年终值1.68\n年终值2.18\n年终值2.82\n年终值3.66\n年终值4.74\n年终值6.13\n年终值7.94\n年终值10.27\n年终值13.29\n"
    }
   ],
   "source": [
    "a=[]\n",
    "dayup=1.0\n",
    "for dayfactor in range(1,11):\n",
    "    dayup=1.0\n",
    "    for i in range(365):\n",
    "        if i%7 in [1,2,3,4,5]:\n",
    "            dayup=dayup*(1+dayfactor/1000)\n",
    "    a.append(dayup)\n",
    "for i in a:\n",
    "    print(\"年终值{:.2f}\".format(i))"
   ]
  },
  {
   "cell_type": "code",
   "execution_count": 72,
   "metadata": {
    "tags": []
   },
   "outputs": [
    {
     "output_type": "stream",
     "name": "stdout",
     "text": "年终值1.37\n年终值1.87\n年终值2.55\n年终值3.47\n年终值4.74\n年终值6.47\n年终值8.81\n年终值12.01\n年终值16.37\n年终值22.30\n"
    }
   ],
   "source": [
    "a=[]\n",
    "dayup=1.0\n",
    "for dayfactor in range(1,11):\n",
    "    dayup=1.0\n",
    "    for i in range(365):\n",
    "        if i%7 in [1,2,3,4,5,6]:\n",
    "            dayup=dayup*(1+dayfactor/1000)\n",
    "    a.append(dayup)\n",
    "for i in a:\n",
    "    print(\"年终值{:.2f}\".format(i))"
   ]
  },
  {
   "cell_type": "code",
   "execution_count": 73,
   "metadata": {
    "tags": []
   },
   "outputs": [
    {
     "output_type": "stream",
     "name": "stdout",
     "text": "年终值1.13\n年终值1.27\n年终值1.43\n年终值1.61\n年终值1.82\n年终值2.05\n年终值2.31\n年终值2.60\n年终值2.93\n年终值3.30\n"
    }
   ],
   "source": [
    "a=[]\n",
    "dayup=1.0\n",
    "for dayfactor in range(1,11):\n",
    "    dayup=1.0\n",
    "    for i in range(360):\n",
    "        if i%30 in [1,2,3,4,5,6,7,8,9,10]:\n",
    "            dayup=dayup*(1+dayfactor/1000)\n",
    "    a.append(dayup)\n",
    "for i in a:\n",
    "    print(\"年终值{:.2f}\".format(i))"
   ]
  },
  {
   "cell_type": "code",
   "execution_count": 48,
   "metadata": {
    "tags": []
   },
   "outputs": [
    {
     "output_type": "stream",
     "name": "stdout",
     "text": "345543 是回文数\n"
    }
   ],
   "source": [
    "# 回文数\n",
    "a=input('输入:')#输入字符串\n",
    "b=a[::-1]#倒序输出\n",
    "if a==b:#判断是否相等\n",
    "    print('{} 是回文数'.format(a))#format方法输出\n",
    "else:\n",
    "    print('{} 不是回文数'.format(a))#format方法输出\n"
   ]
  },
  {
   "cell_type": "code",
   "execution_count": 50,
   "metadata": {
    "tags": []
   },
   "outputs": [
    {
     "output_type": "stream",
     "name": "stdout",
     "text": "原数=360,变换后=63\n"
    }
   ],
   "source": [
    "# 10、(1) 数分析下面Python语句的执行结果\n",
    "import random\n",
    "a=random.randint(100,999)     #随机产生一个三位整数\n",
    "b=(a%10)*100+(a//10%10)*10+a//100\n",
    "print(\"原数={0:d},变换后={1:d}\".format(a,b)) "
   ]
  }
 ]
}