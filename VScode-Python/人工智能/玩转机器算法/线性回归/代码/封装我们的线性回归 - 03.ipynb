{
 "cells": [
  {
   "cell_type": "code",
   "execution_count": 1,
   "metadata": {},
   "outputs": [
    {
     "name": "stdout",
     "output_type": "stream",
     "text": [
      "(1000,) (1000,)\n"
     ]
    }
   ],
   "source": [
    "import numpy as np\n",
    "import matplotlib.pyplot as plt\n",
    "X = np.random.normal(1,1,1000)\n",
    "y = X * 2 + 3 + np.random.normal(size=1000)\n",
    "\n",
    "print(X.shape , y.shape)"
   ]
  },
  {
   "cell_type": "code",
   "execution_count": 2,
   "metadata": {},
   "outputs": [],
   "source": [
    "from sklearn.model_selection import train_test_split\n",
    "X_train , X_test , y_train , y_test = train_test_split(X , y , test_size = 0.2)"
   ]
  },
  {
   "cell_type": "markdown",
   "metadata": {},
   "source": [
    "## 一切就绪，就差一个线性回归模型了"
   ]
  },
  {
   "cell_type": "code",
   "execution_count": 3,
   "metadata": {},
   "outputs": [],
   "source": [
    "class SimpleLinearRegression:\n",
    "\n",
    "    def __init__(self):\n",
    "        \"\"\"初始化Simple Linear Regression模型\"\"\"\n",
    "        self.a_ = None\n",
    "        self.b_ = None\n",
    "\n",
    "    def fit(self, x_train, y_train):\n",
    "        \"\"\"根据训练数据集x_train,y_train训练Simple Linear Regression模型\"\"\"\n",
    "        assert x_train.ndim == 1, \\\n",
    "            \"Simple Linear Regressor can only solve single feature training data.\"\n",
    "        assert len(x_train) == len(y_train), \\\n",
    "            \"the size of x_train must be equal to the size of y_train\"\n",
    "\n",
    "        x_mean = np.mean(x_train)\n",
    "        y_mean = np.mean(y_train)\n",
    "\n",
    "        self.a_ = (x_train - x_mean).dot(y_train - y_mean) / (x_train - x_mean).dot(x_train - x_mean)\n",
    "        self.b_ = y_mean - self.a_ * x_mean\n",
    "\n",
    "        return self\n",
    "\n",
    "    def predict(self, x_predict):\n",
    "        \"\"\"给定待预测数据集x_predict，返回表示x_predict的结果向量\"\"\"\n",
    "        assert x_predict.ndim == 1, \\\n",
    "            \"Simple Linear Regressor can only solve single feature training data.\"\n",
    "        assert self.a_ is not None and self.b_ is not None, \\\n",
    "            \"must fit before predict!\"\n",
    "\n",
    "        return np.array([self._predict(x) for x in x_predict])\n",
    "\n",
    "    def _predict(self, x_single):\n",
    "        \"\"\"给定单个待预测数据x_single，返回x_single的预测结果值\"\"\"\n",
    "        return self.a_ * x_single + self.b_\n",
    "\n",
    "    def score(self, x_test, y_test):\n",
    "        \"\"\"根据测试数据集 x_test 和 y_test 确定当前模型的准确度 r2_score\"\"\"\n",
    "\n",
    "        y_predict = self.predict(x_test)\n",
    "        return 1 - (np.sum((y_test - y_predict)**2) / len(y_test)) / np.var(y_test)"
   ]
  },
  {
   "cell_type": "code",
   "execution_count": 4,
   "metadata": {},
   "outputs": [
    {
     "data": {
      "text/plain": [
       "0.7657723523406184"
      ]
     },
     "execution_count": 4,
     "metadata": {},
     "output_type": "execute_result"
    }
   ],
   "source": [
    "SLR =  SimpleLinearRegression()\n",
    "SLR.fit(X_train , y_train)\n",
    "SLR.score(X_test , y_test)"
   ]
  },
  {
   "cell_type": "code",
   "execution_count": 5,
   "metadata": {},
   "outputs": [
    {
     "data": {
      "text/plain": [
       "[<matplotlib.lines.Line2D at 0x1a1ee29be0>]"
      ]
     },
     "execution_count": 5,
     "metadata": {},
     "output_type": "execute_result"
    },
    {
     "data": {
      "image/png": "[encoded data removed]",
      "text/plain": [
       "<Figure size 432x288 with 1 Axes>"
      ]
     },
     "metadata": {
      "needs_background": "light"
     },
     "output_type": "display_data"
    }
   ],
   "source": [
    "plt.scatter(X_test , y_test)\n",
    "plt.plot(X_test , SLR.predict(X_test) , color = 'r')"
   ]
  },
  {
   "cell_type": "markdown",
   "metadata": {},
   "source": [
    "# 实际项目中，特征数几乎很少是一维的，所以这个模型其实并不是实用，接下来我们实现一个多元线性回归模型"
   ]
  }
 ],
 "metadata": {
  "kernelspec": {
   "display_name": "Python 3",
   "language": "python",
   "name": "python3"
  },
  "language_info": {
   "codemirror_mode": {
    "name": "ipython",
    "version": 3
   },
   "file_extension": ".py",
   "mimetype": "text/x-python",
   "name": "python",
   "nbconvert_exporter": "python",
   "pygments_lexer": "ipython3",
   "version": "3.7.0"
  }
 },
 "nbformat": 4,
 "nbformat_minor": 2
}
