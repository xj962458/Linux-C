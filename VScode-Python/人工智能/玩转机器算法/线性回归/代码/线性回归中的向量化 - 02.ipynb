{
 "cells": [
  {
   "cell_type": "markdown",
   "metadata": {},
   "source": [
    "## 不使用向量化的时间"
   ]
  },
  {
   "cell_type": "code",
   "execution_count": 1,
   "metadata": {},
   "outputs": [],
   "source": [
    "import numpy as np\n",
    "\n",
    "# 取1000000个点，方便比较\n",
    "m = 1000000\n",
    "x = np.random.random(size=m)\n",
    "y = x * 2 + 3 + np.random.normal(size=m)"
   ]
  },
  {
   "cell_type": "code",
   "execution_count": 2,
   "metadata": {},
   "outputs": [
    {
     "name": "stdout",
     "output_type": "stream",
     "text": [
      "CPU times: user 1.37 s, sys: 10.1 ms, total: 1.38 s\n",
      "Wall time: 822 ms\n"
     ]
    }
   ],
   "source": [
    "%%time\n",
    "x_mean = np.mean(x)\n",
    "y_mean = np.mean(y)\n",
    "num = 0.0\n",
    "d = 0.0\n",
    "for x_i , y_i in zip(x , y):\n",
    "    num += (x_i - x_mean)*(y_i - y_mean)\n",
    "    d += (x_i - x_mean) ** 2\n",
    "# 得a\n",
    "a = num / d\n",
    "# 得b\n",
    "b = y_mean - a*x_mean\n",
    "# 得y预测值\n",
    "y_hat = a * x + b"
   ]
  },
  {
   "cell_type": "markdown",
   "metadata": {},
   "source": [
    "# 使用向量化的时间"
   ]
  },
  {
   "cell_type": "code",
   "execution_count": 3,
   "metadata": {
    "scrolled": true
   },
   "outputs": [
    {
     "name": "stdout",
     "output_type": "stream",
     "text": [
      "CPU times: user 25.3 ms, sys: 19.8 ms, total: 45.1 ms\n",
      "Wall time: 11.8 ms\n"
     ]
    }
   ],
   "source": [
    "%%time\n",
    "a_vt = (x - x_mean).dot(y - y_mean) / (x - x_mean).dot(x - x_mean)\n",
    "b_vt = y_mean - a_vt * x_mean\n",
    "y_hat_vt = a_vt * x + b_vt"
   ]
  },
  {
   "cell_type": "markdown",
   "metadata": {},
   "source": [
    "## 应用向量化的思想后大大提高了运行效率"
   ]
  }
 ],
 "metadata": {
  "kernelspec": {
   "display_name": "Python 3",
   "language": "python",
   "name": "python3"
  },
  "language_info": {
   "codemirror_mode": {
    "name": "ipython",
    "version": 3
   },
   "file_extension": ".py",
   "mimetype": "text/x-python",
   "name": "python",
   "nbconvert_exporter": "python",
   "pygments_lexer": "ipython3",
   "version": "3.7.0"
  }
 },
 "nbformat": 4,
 "nbformat_minor": 2
}
