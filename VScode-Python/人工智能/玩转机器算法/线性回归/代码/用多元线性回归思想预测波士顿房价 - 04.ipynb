{
 "cells": [
  {
   "cell_type": "code",
   "execution_count": 1,
   "metadata": {},
   "outputs": [
    {
     "name": "stdout",
     "output_type": "stream",
     "text": [
      "(490, 13) (490,)\n"
     ]
    }
   ],
   "source": [
    "import numpy as np\n",
    "import matplotlib.pyplot as plt\n",
    "# 对波士顿房价进行预测\n",
    "from sklearn.datasets import load_boston\n",
    "boston = load_boston()\n",
    "X = boston.data\n",
    "y = boston.target\n",
    "\n",
    "# 拿掉波士顿房价中的异常值\n",
    "X = X[y < 50.0]\n",
    "y = y[y < 50.0]\n",
    "\n",
    "print(X.shape , y.shape)"
   ]
  },
  {
   "cell_type": "code",
   "execution_count": 2,
   "metadata": {},
   "outputs": [],
   "source": [
    "from sklearn.model_selection import train_test_split\n",
    "X_train , X_test , y_train , y_test = train_test_split(X , y , test_size = 0.2)"
   ]
  },
  {
   "cell_type": "markdown",
   "metadata": {},
   "source": [
    "## 多元回归的思想便是将原来的向量拓展到矩阵，我们只需要得到intercept和coef系数"
   ]
  },
  {
   "cell_type": "code",
   "execution_count": 8,
   "metadata": {
    "scrolled": true
   },
   "outputs": [
    {
     "name": "stdout",
     "output_type": "stream",
     "text": [
      "[20.75630895 32.89742694 15.54863846 22.44832608 28.60559603 34.92016099\n",
      " 12.12222817 23.09574362 22.94707773 25.93998818]\n",
      "0.7725115645600544\n",
      "CPU times: user 6.56 ms, sys: 1.15 ms, total: 7.71 ms\n",
      "Wall time: 1.82 ms\n"
     ]
    }
   ],
   "source": [
    "%%time\n",
    "# 训练过程得到intercept和coef系数\n",
    "X_b_train = np.hstack([np.ones((len(X_train), 1)), X_train])\n",
    "theta = np.linalg.inv(X_b_train.T.dot(X_b_train)).dot(X_b_train.T).dot(y_train)\n",
    "intercept = theta[0]\n",
    "coef = theta[1:]\n",
    "\n",
    "# 预测过程得到预测值\n",
    "X_b_test = np.hstack([np.ones((len(X_test), 1)), X_test])\n",
    "y_predict = X_b_test.dot(theta)\n",
    "print(y_predict[:10])\n",
    "\n",
    "# 得到模型准确率 r2_score\n",
    "score =1 -  (np.sum((y_test - y_predict)**2) / len(y_test)) / np.var(y_test)\n",
    "print(score)"
   ]
  }
 ],
 "metadata": {
  "kernelspec": {
   "display_name": "Python 3",
   "language": "python",
   "name": "python3"
  },
  "language_info": {
   "codemirror_mode": {
    "name": "ipython",
    "version": 3
   },
   "file_extension": ".py",
   "mimetype": "text/x-python",
   "name": "python",
   "nbconvert_exporter": "python",
   "pygments_lexer": "ipython3",
   "version": "3.7.0"
  }
 },
 "nbformat": 4,
 "nbformat_minor": 2
}
